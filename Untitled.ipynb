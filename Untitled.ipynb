{
 "cells": [
  {
   "cell_type": "code",
   "execution_count": 33,
   "id": "44d22500",
   "metadata": {},
   "outputs": [
    {
     "data": {
      "text/html": [
       "        <script type=\"text/javascript\">\n",
       "        window.PlotlyConfig = {MathJaxConfig: 'local'};\n",
       "        if (window.MathJax && window.MathJax.Hub && window.MathJax.Hub.Config) {window.MathJax.Hub.Config({SVG: {font: \"STIX-Web\"}});}\n",
       "        if (typeof require !== 'undefined') {\n",
       "        require.undef(\"plotly\");\n",
       "        requirejs.config({\n",
       "            paths: {\n",
       "                'plotly': ['https://cdn.plot.ly/plotly-2.35.2.min']\n",
       "            }\n",
       "        });\n",
       "        require(['plotly'], function(Plotly) {\n",
       "            window._Plotly = Plotly;\n",
       "        });\n",
       "        }\n",
       "        </script>\n",
       "        "
      ]
     },
     "metadata": {},
     "output_type": "display_data"
    }
   ],
   "source": [
    "import numpy as np\n",
    "import pandas as pd\n",
    "import matplotlib.pyplot as plt\n",
    "import seaborn as sns\n",
    "import plotly.express as px\n",
    "from plotly.offline import init_notebook_mode\n",
    "init_notebook_mode(connected=True)\n",
    "import plotly.figure_factory as ff\n",
    "import plotly.graph_objects as go\n",
    "from scipy.stats import chi2_contingency"
   ]
  },
  {
   "cell_type": "markdown",
   "id": "8b9fbc5f",
   "metadata": {},
   "source": [
    "### Carga del DataSet"
   ]
  },
  {
   "cell_type": "code",
   "execution_count": 2,
   "id": "80ed3729",
   "metadata": {},
   "outputs": [],
   "source": [
    "df = pd.read_csv('StudentsPerformance.csv')"
   ]
  },
  {
   "cell_type": "code",
   "execution_count": 3,
   "id": "595a4b95",
   "metadata": {},
   "outputs": [
    {
     "data": {
      "text/html": [
       "<div>\n",
       "<style scoped>\n",
       "    .dataframe tbody tr th:only-of-type {\n",
       "        vertical-align: middle;\n",
       "    }\n",
       "\n",
       "    .dataframe tbody tr th {\n",
       "        vertical-align: top;\n",
       "    }\n",
       "\n",
       "    .dataframe thead th {\n",
       "        text-align: right;\n",
       "    }\n",
       "</style>\n",
       "<table border=\"1\" class=\"dataframe\">\n",
       "  <thead>\n",
       "    <tr style=\"text-align: right;\">\n",
       "      <th></th>\n",
       "      <th>gender</th>\n",
       "      <th>race/ethnicity</th>\n",
       "      <th>parental level of education</th>\n",
       "      <th>lunch</th>\n",
       "      <th>test preparation course</th>\n",
       "      <th>math score</th>\n",
       "      <th>reading score</th>\n",
       "      <th>writing score</th>\n",
       "    </tr>\n",
       "  </thead>\n",
       "  <tbody>\n",
       "    <tr>\n",
       "      <th>0</th>\n",
       "      <td>female</td>\n",
       "      <td>group B</td>\n",
       "      <td>bachelor's degree</td>\n",
       "      <td>standard</td>\n",
       "      <td>none</td>\n",
       "      <td>72</td>\n",
       "      <td>72</td>\n",
       "      <td>74</td>\n",
       "    </tr>\n",
       "    <tr>\n",
       "      <th>1</th>\n",
       "      <td>female</td>\n",
       "      <td>group C</td>\n",
       "      <td>some college</td>\n",
       "      <td>standard</td>\n",
       "      <td>completed</td>\n",
       "      <td>69</td>\n",
       "      <td>90</td>\n",
       "      <td>88</td>\n",
       "    </tr>\n",
       "    <tr>\n",
       "      <th>2</th>\n",
       "      <td>female</td>\n",
       "      <td>group B</td>\n",
       "      <td>master's degree</td>\n",
       "      <td>standard</td>\n",
       "      <td>none</td>\n",
       "      <td>90</td>\n",
       "      <td>95</td>\n",
       "      <td>93</td>\n",
       "    </tr>\n",
       "    <tr>\n",
       "      <th>3</th>\n",
       "      <td>male</td>\n",
       "      <td>group A</td>\n",
       "      <td>associate's degree</td>\n",
       "      <td>free/reduced</td>\n",
       "      <td>none</td>\n",
       "      <td>47</td>\n",
       "      <td>57</td>\n",
       "      <td>44</td>\n",
       "    </tr>\n",
       "    <tr>\n",
       "      <th>4</th>\n",
       "      <td>male</td>\n",
       "      <td>group C</td>\n",
       "      <td>some college</td>\n",
       "      <td>standard</td>\n",
       "      <td>none</td>\n",
       "      <td>76</td>\n",
       "      <td>78</td>\n",
       "      <td>75</td>\n",
       "    </tr>\n",
       "    <tr>\n",
       "      <th>...</th>\n",
       "      <td>...</td>\n",
       "      <td>...</td>\n",
       "      <td>...</td>\n",
       "      <td>...</td>\n",
       "      <td>...</td>\n",
       "      <td>...</td>\n",
       "      <td>...</td>\n",
       "      <td>...</td>\n",
       "    </tr>\n",
       "    <tr>\n",
       "      <th>995</th>\n",
       "      <td>female</td>\n",
       "      <td>group E</td>\n",
       "      <td>master's degree</td>\n",
       "      <td>standard</td>\n",
       "      <td>completed</td>\n",
       "      <td>88</td>\n",
       "      <td>99</td>\n",
       "      <td>95</td>\n",
       "    </tr>\n",
       "    <tr>\n",
       "      <th>996</th>\n",
       "      <td>male</td>\n",
       "      <td>group C</td>\n",
       "      <td>high school</td>\n",
       "      <td>free/reduced</td>\n",
       "      <td>none</td>\n",
       "      <td>62</td>\n",
       "      <td>55</td>\n",
       "      <td>55</td>\n",
       "    </tr>\n",
       "    <tr>\n",
       "      <th>997</th>\n",
       "      <td>female</td>\n",
       "      <td>group C</td>\n",
       "      <td>high school</td>\n",
       "      <td>free/reduced</td>\n",
       "      <td>completed</td>\n",
       "      <td>59</td>\n",
       "      <td>71</td>\n",
       "      <td>65</td>\n",
       "    </tr>\n",
       "    <tr>\n",
       "      <th>998</th>\n",
       "      <td>female</td>\n",
       "      <td>group D</td>\n",
       "      <td>some college</td>\n",
       "      <td>standard</td>\n",
       "      <td>completed</td>\n",
       "      <td>68</td>\n",
       "      <td>78</td>\n",
       "      <td>77</td>\n",
       "    </tr>\n",
       "    <tr>\n",
       "      <th>999</th>\n",
       "      <td>female</td>\n",
       "      <td>group D</td>\n",
       "      <td>some college</td>\n",
       "      <td>free/reduced</td>\n",
       "      <td>none</td>\n",
       "      <td>77</td>\n",
       "      <td>86</td>\n",
       "      <td>86</td>\n",
       "    </tr>\n",
       "  </tbody>\n",
       "</table>\n",
       "<p>1000 rows × 8 columns</p>\n",
       "</div>"
      ],
      "text/plain": [
       "     gender race/ethnicity parental level of education         lunch  \\\n",
       "0    female        group B           bachelor's degree      standard   \n",
       "1    female        group C                some college      standard   \n",
       "2    female        group B             master's degree      standard   \n",
       "3      male        group A          associate's degree  free/reduced   \n",
       "4      male        group C                some college      standard   \n",
       "..      ...            ...                         ...           ...   \n",
       "995  female        group E             master's degree      standard   \n",
       "996    male        group C                 high school  free/reduced   \n",
       "997  female        group C                 high school  free/reduced   \n",
       "998  female        group D                some college      standard   \n",
       "999  female        group D                some college  free/reduced   \n",
       "\n",
       "    test preparation course  math score  reading score  writing score  \n",
       "0                      none          72             72             74  \n",
       "1                 completed          69             90             88  \n",
       "2                      none          90             95             93  \n",
       "3                      none          47             57             44  \n",
       "4                      none          76             78             75  \n",
       "..                      ...         ...            ...            ...  \n",
       "995               completed          88             99             95  \n",
       "996                    none          62             55             55  \n",
       "997               completed          59             71             65  \n",
       "998               completed          68             78             77  \n",
       "999                    none          77             86             86  \n",
       "\n",
       "[1000 rows x 8 columns]"
      ]
     },
     "execution_count": 3,
     "metadata": {},
     "output_type": "execute_result"
    }
   ],
   "source": [
    "df"
   ]
  },
  {
   "cell_type": "markdown",
   "id": "f69e3346",
   "metadata": {},
   "source": [
    "### EDA"
   ]
  },
  {
   "cell_type": "code",
   "execution_count": 4,
   "id": "be4bd805",
   "metadata": {},
   "outputs": [
    {
     "name": "stdout",
     "output_type": "stream",
     "text": [
      "Filas duplicadas excluyendo la primera aparición\n",
      "Empty DataFrame\n",
      "Columns: [gender, race/ethnicity, parental level of education, lunch, test preparation course, math score, reading score, writing score]\n",
      "Index: []\n"
     ]
    }
   ],
   "source": [
    "duplicados = df[df.duplicated()]\n",
    "print(\"Filas duplicadas excluyendo la primera aparición\")\n",
    "print(duplicados)"
   ]
  },
  {
   "cell_type": "markdown",
   "id": "f18571b6",
   "metadata": {},
   "source": [
    "### Buscamos Valores nulos"
   ]
  },
  {
   "cell_type": "code",
   "execution_count": 5,
   "id": "60506f01",
   "metadata": {},
   "outputs": [
    {
     "data": {
      "text/plain": [
       "gender                         0\n",
       "race/ethnicity                 0\n",
       "parental level of education    0\n",
       "lunch                          0\n",
       "test preparation course        0\n",
       "math score                     0\n",
       "reading score                  0\n",
       "writing score                  0\n",
       "dtype: int64"
      ]
     },
     "execution_count": 5,
     "metadata": {},
     "output_type": "execute_result"
    }
   ],
   "source": [
    "df.isnull().sum()"
   ]
  },
  {
   "cell_type": "markdown",
   "id": "a6003397",
   "metadata": {},
   "source": [
    "### Descripcion de Dataset"
   ]
  },
  {
   "cell_type": "code",
   "execution_count": 7,
   "id": "63231c2c",
   "metadata": {},
   "outputs": [
    {
     "data": {
      "text/plain": [
       "<bound method NDFrame.describe of      gender race/ethnicity parental level of education         lunch  \\\n",
       "0    female        group B           bachelor's degree      standard   \n",
       "1    female        group C                some college      standard   \n",
       "2    female        group B             master's degree      standard   \n",
       "3      male        group A          associate's degree  free/reduced   \n",
       "4      male        group C                some college      standard   \n",
       "..      ...            ...                         ...           ...   \n",
       "995  female        group E             master's degree      standard   \n",
       "996    male        group C                 high school  free/reduced   \n",
       "997  female        group C                 high school  free/reduced   \n",
       "998  female        group D                some college      standard   \n",
       "999  female        group D                some college  free/reduced   \n",
       "\n",
       "    test preparation course  math score  reading score  writing score  \n",
       "0                      none          72             72             74  \n",
       "1                 completed          69             90             88  \n",
       "2                      none          90             95             93  \n",
       "3                      none          47             57             44  \n",
       "4                      none          76             78             75  \n",
       "..                      ...         ...            ...            ...  \n",
       "995               completed          88             99             95  \n",
       "996                    none          62             55             55  \n",
       "997               completed          59             71             65  \n",
       "998               completed          68             78             77  \n",
       "999                    none          77             86             86  \n",
       "\n",
       "[1000 rows x 8 columns]>"
      ]
     },
     "execution_count": 7,
     "metadata": {},
     "output_type": "execute_result"
    }
   ],
   "source": [
    "df.describe"
   ]
  },
  {
   "cell_type": "code",
   "execution_count": 9,
   "id": "7219666b",
   "metadata": {},
   "outputs": [
    {
     "data": {
      "text/plain": [
       "8000"
      ]
     },
     "execution_count": 9,
     "metadata": {},
     "output_type": "execute_result"
    }
   ],
   "source": [
    "df.size"
   ]
  },
  {
   "cell_type": "code",
   "execution_count": 10,
   "id": "5e0bb9a1",
   "metadata": {},
   "outputs": [
    {
     "data": {
      "text/plain": [
       "gender                         object\n",
       "race/ethnicity                 object\n",
       "parental level of education    object\n",
       "lunch                          object\n",
       "test preparation course        object\n",
       "math score                      int64\n",
       "reading score                   int64\n",
       "writing score                   int64\n",
       "dtype: object"
      ]
     },
     "execution_count": 10,
     "metadata": {},
     "output_type": "execute_result"
    }
   ],
   "source": [
    "df.dtypes"
   ]
  },
  {
   "cell_type": "code",
   "execution_count": 11,
   "id": "a7cb3e8b",
   "metadata": {},
   "outputs": [
    {
     "data": {
      "text/plain": [
       "(1000, 8)"
      ]
     },
     "execution_count": 11,
     "metadata": {},
     "output_type": "execute_result"
    }
   ],
   "source": [
    "df.shape"
   ]
  },
  {
   "cell_type": "code",
   "execution_count": 12,
   "id": "334bbcee",
   "metadata": {},
   "outputs": [
    {
     "data": {
      "text/html": [
       "<div>\n",
       "<style scoped>\n",
       "    .dataframe tbody tr th:only-of-type {\n",
       "        vertical-align: middle;\n",
       "    }\n",
       "\n",
       "    .dataframe tbody tr th {\n",
       "        vertical-align: top;\n",
       "    }\n",
       "\n",
       "    .dataframe thead th {\n",
       "        text-align: right;\n",
       "    }\n",
       "</style>\n",
       "<table border=\"1\" class=\"dataframe\">\n",
       "  <thead>\n",
       "    <tr style=\"text-align: right;\">\n",
       "      <th></th>\n",
       "      <th>math score</th>\n",
       "      <th>reading score</th>\n",
       "      <th>writing score</th>\n",
       "    </tr>\n",
       "  </thead>\n",
       "  <tbody>\n",
       "    <tr>\n",
       "      <th>count</th>\n",
       "      <td>1000.00000</td>\n",
       "      <td>1000.000000</td>\n",
       "      <td>1000.000000</td>\n",
       "    </tr>\n",
       "    <tr>\n",
       "      <th>mean</th>\n",
       "      <td>66.08900</td>\n",
       "      <td>69.169000</td>\n",
       "      <td>68.054000</td>\n",
       "    </tr>\n",
       "    <tr>\n",
       "      <th>std</th>\n",
       "      <td>15.16308</td>\n",
       "      <td>14.600192</td>\n",
       "      <td>15.195657</td>\n",
       "    </tr>\n",
       "    <tr>\n",
       "      <th>min</th>\n",
       "      <td>0.00000</td>\n",
       "      <td>17.000000</td>\n",
       "      <td>10.000000</td>\n",
       "    </tr>\n",
       "    <tr>\n",
       "      <th>25%</th>\n",
       "      <td>57.00000</td>\n",
       "      <td>59.000000</td>\n",
       "      <td>57.750000</td>\n",
       "    </tr>\n",
       "    <tr>\n",
       "      <th>50%</th>\n",
       "      <td>66.00000</td>\n",
       "      <td>70.000000</td>\n",
       "      <td>69.000000</td>\n",
       "    </tr>\n",
       "    <tr>\n",
       "      <th>75%</th>\n",
       "      <td>77.00000</td>\n",
       "      <td>79.000000</td>\n",
       "      <td>79.000000</td>\n",
       "    </tr>\n",
       "    <tr>\n",
       "      <th>max</th>\n",
       "      <td>100.00000</td>\n",
       "      <td>100.000000</td>\n",
       "      <td>100.000000</td>\n",
       "    </tr>\n",
       "  </tbody>\n",
       "</table>\n",
       "</div>"
      ],
      "text/plain": [
       "       math score  reading score  writing score\n",
       "count  1000.00000    1000.000000    1000.000000\n",
       "mean     66.08900      69.169000      68.054000\n",
       "std      15.16308      14.600192      15.195657\n",
       "min       0.00000      17.000000      10.000000\n",
       "25%      57.00000      59.000000      57.750000\n",
       "50%      66.00000      70.000000      69.000000\n",
       "75%      77.00000      79.000000      79.000000\n",
       "max     100.00000     100.000000     100.000000"
      ]
     },
     "execution_count": 12,
     "metadata": {},
     "output_type": "execute_result"
    }
   ],
   "source": [
    "df.describe()"
   ]
  },
  {
   "cell_type": "markdown",
   "id": "04a8aec9",
   "metadata": {},
   "source": [
    "### Siguiendo un ejemplo de Kaggle se me hizo interesante ya que muestra la relación entre el nivel educativo de los padres y el rendimiento estudiantil en términos de género. En general, observamos que a medida que aumenta el nivel educativo de los padres, los puntajes de los estudiantes en matemáticas, lectura y escritura tienden a aumentar."
   ]
  },
  {
   "attachments": {},
   "cell_type": "markdown",
   "id": "04a31610",
   "metadata": {},
   "source": [
    "### Tree Map 🌳"
   ]
  },
  {
   "cell_type": "code",
   "execution_count": 20,
   "id": "fb6580e2",
   "metadata": {},
   "outputs": [],
   "source": [
    "df_melted = df.melt(\n",
    "    id_vars =['parental level of education','gender'],  # En id_vars paso una lista segun lo que quiero agrupar, por eso se van a repetir estas variables\n",
    "    value_vars=['math score', 'reading score', 'writing score'], #estas etiquetas de serie se \"derriten\" pasan a ser parte de la fila\n",
    "    var_name = 'materia',\n",
    "    value_name = 'Nota'\n",
    ")"
   ]
  },
  {
   "cell_type": "code",
   "execution_count": 27,
   "id": "a2191a8e",
   "metadata": {},
   "outputs": [
    {
     "data": {
      "text/html": [
       "<iframe\n",
       "    scrolling=\"no\"\n",
       "    width=\"100%\"\n",
       "    height=\"545px\"\n",
       "    src=\"iframe_figures/figure_27.html\"\n",
       "    frameborder=\"0\"\n",
       "    allowfullscreen\n",
       "></iframe>\n"
      ]
     },
     "metadata": {},
     "output_type": "display_data"
    }
   ],
   "source": [
    "grafico = px.treemap(\n",
    "    df_melted,\n",
    "    path=['parental level of education','gender','materia'],\n",
    "    values = 'Nota',\n",
    "    color = 'Nota',\n",
    "    color_continuous_scale ='Blues',\n",
    "    title = 'Puntuación en base Educación de padres y género'\n",
    ")\n",
    "\n",
    "#grafico.show(renderer='iframe_connected')\n",
    "\n",
    "grafico.update_layout(\n",
    "    margin=dict(t=70, l=25, r=25, b=25),# acá controlo el margen t=70 pixels para el titulo, left =25 px... y asi para q no queden pegados los cuadros\n",
    "    coloraxis_colorbar=dict(title='Nota')\n",
    ")\n",
    "\n",
    "grafico.update_traces(\n",
    "    texttemplate=\"<b>%{label}</b><br>%{value:.1f}\", #\n",
    "    hovertemplate=\"<b>%{label}</b><br>Puntaje: %{value:.1f}<br>Nodo Padre: %{parent}\"\n",
    ")\n",
    "\n",
    "grafico.show(renderer='iframe_connected')"
   ]
  },
  {
   "cell_type": "markdown",
   "id": "84f6934b",
   "metadata": {},
   "source": [
    "### Distribución de Notas por generos y materias 🎻"
   ]
  },
  {
   "cell_type": "markdown",
   "id": "66ada574",
   "metadata": {},
   "source": [
    "### Se utiliza un diagrama de violin, q es uno de caja modificado para observar mejor la distribucion de los datos"
   ]
  },
  {
   "cell_type": "code",
   "execution_count": 30,
   "id": "371ff2c9",
   "metadata": {},
   "outputs": [
    {
     "data": {
      "text/html": [
       "<iframe\n",
       "    scrolling=\"no\"\n",
       "    width=\"100%\"\n",
       "    height=\"545px\"\n",
       "    src=\"iframe_figures/figure_30.html\"\n",
       "    frameborder=\"0\"\n",
       "    allowfullscreen\n",
       "></iframe>\n"
      ]
     },
     "metadata": {},
     "output_type": "display_data"
    }
   ],
   "source": [
    "df_melted = df.melt(\n",
    "    id_vars=['gender'], \n",
    "    value_vars=['math score', 'reading score', 'writing score'],\n",
    "    var_name='Materia',\n",
    "    value_name='Nota'\n",
    ")\n",
    "\n",
    "#df_melted.head()\n",
    "\n",
    "fig = px.violin(\n",
    "    df_melted,\n",
    "    y='Nota', \n",
    "    x='Materia', \n",
    "    color='gender', #Esto separa los datos por color según el género.\n",
    "    box=True,        # para ver el gráfico de caja dentro del violin\n",
    "    points=\"all\",\n",
    "    color_discrete_sequence=['#8B0000', '#0000FF'],\n",
    "    title=\"Distribución de Notas por género y curso\"\n",
    ")\n",
    "fig.show(renderer='iframe_connected')"
   ]
  },
  {
   "cell_type": "markdown",
   "id": "ba843a25",
   "metadata": {},
   "source": [
    "### Estos gráficos de violín muestran la distribución de las notas en diferentes materias (matemáticas, lectura, escritura) por género. Hasta donde podemos observar, la distribución de los estudiantes varones (Azul) en las puntuaciones de matemáticas parece ser ligeramente más amplia y el promedio es más alto que el de las estudiantes mujeres (Rojo). En las puntuaciones de lectura y escritura, se puede decir que las puntuaciones de las estudiantes mujeres generalmente se concentran más alto y tienen una distribución más estrecha.\n",
    "### Tambien observamos la posible presencia de puntos o valores atípicos en las nostas de las mujeres, tal vez estos puntos \"tiren para abajo\" las notas de las mujeres. Habría q estudiarlos mas al detalle y ver si estan fuera del 1.5x(rango intercuartilico)."
   ]
  },
  {
   "cell_type": "markdown",
   "id": "43be74c5",
   "metadata": {},
   "source": [
    "### Voy a realizar un test de independencia de chi-cuadrado para ver si hay relación entre el tipo de almuerzo y las notas"
   ]
  },
  {
   "cell_type": "markdown",
   "id": "f904168e",
   "metadata": {},
   "source": [
    "### Para eso tengo que asignarle categorias a las notas ya que estas son una variable Cuantitava"
   ]
  },
  {
   "cell_type": "markdown",
   "id": "9f79421a",
   "metadata": {},
   "source": [
    "### Convertimos las notas numéricas en categorías:"
   ]
  },
  {
   "cell_type": "code",
   "execution_count": 31,
   "id": "9fa8920d",
   "metadata": {},
   "outputs": [
    {
     "data": {
      "text/html": [
       "<div>\n",
       "<style scoped>\n",
       "    .dataframe tbody tr th:only-of-type {\n",
       "        vertical-align: middle;\n",
       "    }\n",
       "\n",
       "    .dataframe tbody tr th {\n",
       "        vertical-align: top;\n",
       "    }\n",
       "\n",
       "    .dataframe thead th {\n",
       "        text-align: right;\n",
       "    }\n",
       "</style>\n",
       "<table border=\"1\" class=\"dataframe\">\n",
       "  <thead>\n",
       "    <tr style=\"text-align: right;\">\n",
       "      <th></th>\n",
       "      <th>gender</th>\n",
       "      <th>race/ethnicity</th>\n",
       "      <th>parental level of education</th>\n",
       "      <th>lunch</th>\n",
       "      <th>test preparation course</th>\n",
       "      <th>math score</th>\n",
       "      <th>reading score</th>\n",
       "      <th>writing score</th>\n",
       "      <th>nota_promedio</th>\n",
       "      <th>nota_categoria</th>\n",
       "    </tr>\n",
       "  </thead>\n",
       "  <tbody>\n",
       "    <tr>\n",
       "      <th>0</th>\n",
       "      <td>female</td>\n",
       "      <td>group B</td>\n",
       "      <td>bachelor's degree</td>\n",
       "      <td>standard</td>\n",
       "      <td>none</td>\n",
       "      <td>72</td>\n",
       "      <td>72</td>\n",
       "      <td>74</td>\n",
       "      <td>72.666667</td>\n",
       "      <td>Media</td>\n",
       "    </tr>\n",
       "    <tr>\n",
       "      <th>1</th>\n",
       "      <td>female</td>\n",
       "      <td>group C</td>\n",
       "      <td>some college</td>\n",
       "      <td>standard</td>\n",
       "      <td>completed</td>\n",
       "      <td>69</td>\n",
       "      <td>90</td>\n",
       "      <td>88</td>\n",
       "      <td>82.333333</td>\n",
       "      <td>Alta</td>\n",
       "    </tr>\n",
       "    <tr>\n",
       "      <th>2</th>\n",
       "      <td>female</td>\n",
       "      <td>group B</td>\n",
       "      <td>master's degree</td>\n",
       "      <td>standard</td>\n",
       "      <td>none</td>\n",
       "      <td>90</td>\n",
       "      <td>95</td>\n",
       "      <td>93</td>\n",
       "      <td>92.666667</td>\n",
       "      <td>Alta</td>\n",
       "    </tr>\n",
       "    <tr>\n",
       "      <th>3</th>\n",
       "      <td>male</td>\n",
       "      <td>group A</td>\n",
       "      <td>associate's degree</td>\n",
       "      <td>free/reduced</td>\n",
       "      <td>none</td>\n",
       "      <td>47</td>\n",
       "      <td>57</td>\n",
       "      <td>44</td>\n",
       "      <td>49.333333</td>\n",
       "      <td>Baja</td>\n",
       "    </tr>\n",
       "    <tr>\n",
       "      <th>4</th>\n",
       "      <td>male</td>\n",
       "      <td>group C</td>\n",
       "      <td>some college</td>\n",
       "      <td>standard</td>\n",
       "      <td>none</td>\n",
       "      <td>76</td>\n",
       "      <td>78</td>\n",
       "      <td>75</td>\n",
       "      <td>76.333333</td>\n",
       "      <td>Media</td>\n",
       "    </tr>\n",
       "  </tbody>\n",
       "</table>\n",
       "</div>"
      ],
      "text/plain": [
       "   gender race/ethnicity parental level of education         lunch  \\\n",
       "0  female        group B           bachelor's degree      standard   \n",
       "1  female        group C                some college      standard   \n",
       "2  female        group B             master's degree      standard   \n",
       "3    male        group A          associate's degree  free/reduced   \n",
       "4    male        group C                some college      standard   \n",
       "\n",
       "  test preparation course  math score  reading score  writing score  \\\n",
       "0                    none          72             72             74   \n",
       "1               completed          69             90             88   \n",
       "2                    none          90             95             93   \n",
       "3                    none          47             57             44   \n",
       "4                    none          76             78             75   \n",
       "\n",
       "   nota_promedio nota_categoria  \n",
       "0      72.666667          Media  \n",
       "1      82.333333           Alta  \n",
       "2      92.666667           Alta  \n",
       "3      49.333333           Baja  \n",
       "4      76.333333          Media  "
      ]
     },
     "execution_count": 31,
     "metadata": {},
     "output_type": "execute_result"
    }
   ],
   "source": [
    "#Para simplificar sacamos el promedio de las notas sin importar q materia es.\n",
    "df['nota_promedio'] = df[['math score', 'reading score', 'writing score']].mean(axis=1)\n",
    "\n",
    "#Dividimos las notas en 3 categorias: \"Baja, Media, Alta\"\n",
    "df['nota_categoria'] = pd.cut(df['nota_promedio'], \n",
    "                              bins=[0, 60, 80, 100], \n",
    "                              labels=['Baja', 'Media', 'Alta'])\n",
    "\n",
    "df.head()"
   ]
  },
  {
   "cell_type": "markdown",
   "id": "251c1855",
   "metadata": {},
   "source": [
    "### Creamos una tabla de contingencia donde se muestra la frecuencia, es decir cuantas veces ocurre que tenga un promedio malo y una alimentacion mala."
   ]
  },
  {
   "cell_type": "code",
   "execution_count": 32,
   "id": "15479bc3",
   "metadata": {},
   "outputs": [
    {
     "name": "stdout",
     "output_type": "stream",
     "text": [
      "lunch           free/reduced  standard\n",
      "nota_categoria                        \n",
      "Baja                     158       135\n",
      "Media                    160       353\n",
      "Alta                      37       157\n"
     ]
    }
   ],
   "source": [
    "tabla = pd.crosstab(df['nota_categoria'], df['lunch'])\n",
    "print(tabla)"
   ]
  },
  {
   "cell_type": "markdown",
   "id": "5162214a",
   "metadata": {},
   "source": [
    "### Test chi-cuadrado χ2"
   ]
  },
  {
   "cell_type": "code",
   "execution_count": 35,
   "id": "d522fcdf",
   "metadata": {},
   "outputs": [
    {
     "name": "stdout",
     "output_type": "stream",
     "text": [
      "Chi2 = 70.47\n",
      "Valor p = 0.0000\n",
      "Grados de libertad = 2\n"
     ]
    }
   ],
   "source": [
    "chi2, p, dof, expected = chi2_contingency(tabla)\n",
    "\n",
    "print(f\"Chi2 = {chi2:.2f}\")\n",
    "print(f\"Valor p = {p:.4f}\")\n",
    "print(f\"Grados de libertad = {dof}\")"
   ]
  },
  {
   "cell_type": "markdown",
   "id": "0413aa3e",
   "metadata": {},
   "source": [
    "### Mientras más grande sea χ2, más evidencia hay de que las variables están relacionadas.\n",
    "### Hipótesis nula (H₀): No hay relación entre las variables (son independientes).\n",
    "### Hipótesis alternativa (H₁): Sí hay relación.\n",
    "\n",
    "### En este caso la significancia p dió 0, entonces se descarta la hipotesis nula..Por lo tanto Tenemos muchas posibilidades de que las variables esten relacionadas ya que \"p\" indica la probabilidad de obtener resultados tan extremos como los observados si la hipótesis nula fuera cierta."
   ]
  },
  {
   "cell_type": "code",
   "execution_count": 36,
   "id": "91adb83b",
   "metadata": {},
   "outputs": [
    {
     "name": "stdout",
     "output_type": "stream",
     "text": [
      "→ Hay una relación significativa.\n"
     ]
    }
   ],
   "source": [
    "if p < 0.05:\n",
    "    print(\"→ Hay una relación significativa.\")\n",
    "else:\n",
    "    print(\"→ No hay relación significativa.\")"
   ]
  },
  {
   "cell_type": "markdown",
   "id": "ed320ea9",
   "metadata": {},
   "source": [
    "### Tabla esperada y diferencias"
   ]
  },
  {
   "cell_type": "code",
   "execution_count": 39,
   "id": "89342086",
   "metadata": {},
   "outputs": [
    {
     "name": "stdout",
     "output_type": "stream",
     "text": [
      "\n",
      "Frecuencias esperadas:\n",
      "lunch           free/reduced  standard\n",
      "nota_categoria                        \n",
      "Baja                   104.0     189.0\n",
      "Media                  182.1     330.9\n",
      "Alta                    68.9     125.1\n",
      "\n",
      " Diferencia Observado - Esperado:\n",
      "lunch           free/reduced  standard\n",
      "nota_categoria                        \n",
      "Baja                    54.0     -54.0\n",
      "Media                  -22.1      22.1\n",
      "Alta                   -31.9      31.9\n",
      "\n",
      " Diferencia relativa (%):\n",
      "lunch           free/reduced  standard\n",
      "nota_categoria                        \n",
      "Baja                    51.9     -28.6\n",
      "Media                  -12.1       6.7\n",
      "Alta                   -46.3      25.5\n"
     ]
    }
   ],
   "source": [
    "esperado_df = pd.DataFrame(expected, index=tabla.index, columns=tabla.columns)\n",
    "\n",
    "print(\"\\nFrecuencias esperadas:\")\n",
    "print(esperado_df.round(1))\n",
    "\n",
    "# Diferencia absoluta\n",
    "print(\"\\n Diferencia Observado - Esperado:\")\n",
    "print((tabla - esperado_df).round(1))\n",
    "\n",
    "# Diferencia relativa (%)\n",
    "print(\"\\n Diferencia relativa (%):\")\n",
    "print(((tabla - esperado_df) / expected_df * 100).round(1))"
   ]
  },
  {
   "cell_type": "markdown",
   "id": "b8d9986b",
   "metadata": {},
   "source": [
    "### Frecuencias esperadas:"
   ]
  },
  {
   "cell_type": "markdown",
   "id": "2c887646",
   "metadata": {},
   "source": [
    "### Nos dice cuántos estudiantes esperarías tener en cada combinación de nota y tipo de almuerzo si no hubiera relación entre ambas variables. En este caso por ejemplo, se esperarían 104 estudiantes con nota baja y con almuerzo reducido"
   ]
  },
  {
   "cell_type": "markdown",
   "id": "d10f3671",
   "metadata": {},
   "source": [
    "### Diferencia Observado - Esperado\n",
    "### Esto muestra qué tanto se alejan Nuestrod datos reales de lo esperado"
   ]
  },
  {
   "cell_type": "markdown",
   "id": "9b7b8d05",
   "metadata": {},
   "source": [
    "### Diferencia relativa (%)\n",
    "### Nos dice en porcentaje, que tan lejos está de lo esperado"
   ]
  },
  {
   "cell_type": "markdown",
   "id": "441f6550",
   "metadata": {},
   "source": [
    "### Debido a esto y que la significancia P nos dió practicamente 0 podemos afirmar que los estudiantes que tienen almuerzo standard tienden a sacar mejores notas que los que tienen almuerzo reducido."
   ]
  },
  {
   "cell_type": "markdown",
   "id": "2afd9022",
   "metadata": {},
   "source": [
    "### Grafico Diferencias"
   ]
  },
  {
   "cell_type": "code",
   "execution_count": 40,
   "id": "ce42e75a",
   "metadata": {},
   "outputs": [
    {
     "data": {
      "text/html": [
       "<iframe\n",
       "    scrolling=\"no\"\n",
       "    width=\"100%\"\n",
       "    height=\"545px\"\n",
       "    src=\"iframe_figures/figure_40.html\"\n",
       "    frameborder=\"0\"\n",
       "    allowfullscreen\n",
       "></iframe>\n"
      ]
     },
     "metadata": {},
     "output_type": "display_data"
    }
   ],
   "source": [
    "### reseteamos la tabla para que las categoria de notas no sean indices porque ploty express va mejor con formato melt ###\n",
    "tabla_reset = tabla.reset_index().melt(id_vars='nota_categoria', var_name='Tipo de Almuerzo', value_name='Cantidad')\n",
    "\n",
    "fig = px.bar(\n",
    "    tabla_reset,\n",
    "    x='nota_categoria',\n",
    "    y='Cantidad',\n",
    "    color='Tipo de Almuerzo',\n",
    "    barmode='group',\n",
    "    text='Cantidad',\n",
    "    color_discrete_sequence=['#6A5ACD', '#FF7F50'],\n",
    "    title='Relación entre Categoría de Notas y Tipo de Almuerzo'\n",
    ")\n",
    "\n",
    "fig.update_layout(\n",
    "    xaxis_title='Categoría de Nota',\n",
    "    yaxis_title='Cantidad de Estudiantes',\n",
    "    legend_title='Tipo de Almuerzo',\n",
    "    bargap=0.2\n",
    ")\n",
    "\n",
    "fig.update_traces(textposition='outside')\n",
    "\n",
    "fig.show(renderer='iframe_connected')"
   ]
  },
  {
   "cell_type": "code",
   "execution_count": null,
   "id": "68b542d7",
   "metadata": {},
   "outputs": [],
   "source": []
  }
 ],
 "metadata": {
  "kernelspec": {
   "display_name": "Python 3 (ipykernel)",
   "language": "python",
   "name": "python3"
  },
  "language_info": {
   "codemirror_mode": {
    "name": "ipython",
    "version": 3
   },
   "file_extension": ".py",
   "mimetype": "text/x-python",
   "name": "python",
   "nbconvert_exporter": "python",
   "pygments_lexer": "ipython3",
   "version": "3.11.2"
  }
 },
 "nbformat": 4,
 "nbformat_minor": 5
}
